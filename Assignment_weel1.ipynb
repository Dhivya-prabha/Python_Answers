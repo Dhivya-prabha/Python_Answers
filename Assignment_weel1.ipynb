{
 "cells": [
  {
   "cell_type": "markdown",
   "metadata": {},
   "source": [
    "# Q1"
   ]
  },
  {
   "cell_type": "markdown",
   "metadata": {},
   "source": [
    "Write a program to fetch the item only within range between 50 to 70\n",
    "\n",
    "lst = [34,67,55,33,12,98]"
   ]
  },
  {
   "cell_type": "code",
   "execution_count": 1,
   "metadata": {},
   "outputs": [
    {
     "data": {
      "text/plain": [
       "[67, 55]"
      ]
     },
     "execution_count": 1,
     "metadata": {},
     "output_type": "execute_result"
    }
   ],
   "source": [
    "lst= [34,67,55,33,12,98]\n",
    "result = []\n",
    "for i in lst:\n",
    "    if 50 < i < 70:\n",
    "        result.append(i)\n",
    "result"
   ]
  },
  {
   "cell_type": "markdown",
   "metadata": {},
   "source": [
    "# Q2"
   ]
  },
  {
   "cell_type": "markdown",
   "metadata": {},
   "source": [
    "Write a program to print only String data type value from the given List\n",
    "\n",
    "lst = ['abc', 100, 10.10, True, 'Babu']"
   ]
  },
  {
   "cell_type": "code",
   "execution_count": 3,
   "metadata": {},
   "outputs": [
    {
     "name": "stdout",
     "output_type": "stream",
     "text": [
      "abc\n",
      "Babu\n"
     ]
    }
   ],
   "source": [
    "lst = ['abc', 100, 10.10, True, 'Babu']\n",
    "\n",
    "for i in lst:\n",
    "    if(type(i)==str):\n",
    "        print(i)"
   ]
  },
  {
   "cell_type": "markdown",
   "metadata": {},
   "source": [
    "# Q3"
   ]
  },
  {
   "cell_type": "markdown",
   "metadata": {},
   "source": [
    "Write a program to replace only String values as none.\n",
    "\n",
    "lst = ['abc', 100, 10.10, True, 'Babu'] -------> [None, 100, 10.10, True, None]"
   ]
  },
  {
   "cell_type": "code",
   "execution_count": 4,
   "metadata": {},
   "outputs": [
    {
     "name": "stdout",
     "output_type": "stream",
     "text": [
      "[None, 100, 10.1, True, None]\n"
     ]
    }
   ],
   "source": [
    "ls = ['abc', 100, 10.10, True, 'Babu']\n",
    "lst1 = []\n",
    "for i in lst:\n",
    "    if type(i) == type('str'):\n",
    "        lst1.append(None)\n",
    "    else:\n",
    "        lst1.append(i)\n",
    "print(lst1)        \n",
    "        "
   ]
  },
  {
   "cell_type": "markdown",
   "metadata": {},
   "source": [
    "# Q4"
   ]
  },
  {
   "cell_type": "markdown",
   "metadata": {},
   "source": [
    "Write a program which accepts a sequence of comma-separated numbers from console and generate a list    and a tuple which contains every number.\n",
    "\t\n",
    "\tinput  : 34,67,55,33,12,98\n",
    "\toutput : ['34', '67', '55', '33', '12', '98']\n",
    "\t\t ('34', '67', '55', '33', '12', '98')"
   ]
  },
  {
   "cell_type": "code",
   "execution_count": 5,
   "metadata": {},
   "outputs": [
    {
     "name": "stdout",
     "output_type": "stream",
     "text": [
      "Input some comma seprated numbers : 34,67,55,33,12,98\n",
      "List :  ['34', '67', '55', '33', '12', '98']\n",
      "Tuple :  ('34', '67', '55', '33', '12', '98')\n"
     ]
    }
   ],
   "source": [
    "values = input(\"Input some comma seprated numbers : \")\n",
    "list = values.split(\",\")\n",
    "tuple = tuple(list)\n",
    "print('List : ',list)\n",
    "print('Tuple : ',tuple)"
   ]
  },
  {
   "cell_type": "markdown",
   "metadata": {},
   "source": [
    "# Q5"
   ]
  },
  {
   "cell_type": "markdown",
   "metadata": {},
   "source": [
    " With a given tuple (1,2,3,4,5,6,7,8,9,10), write a program to print the first half values in one line    and the last half values in one line.\n",
    "\n",
    "\tinput  : (1,2,3,4,5,6,7,8,9,10)\n",
    "\toutput : (1,2,3,4,5)\n",
    "\t\t (6,7,8,9,10)"
   ]
  },
  {
   "cell_type": "code",
   "execution_count": 6,
   "metadata": {},
   "outputs": [
    {
     "name": "stdout",
     "output_type": "stream",
     "text": [
      "(1, 2, 3, 4, 5)\n",
      "(6, 7, 8, 9, 10)\n"
     ]
    }
   ],
   "source": [
    "tp=(1,2,3,4,5,6,7,8,9,10)\n",
    "\n",
    "tp1=tp[:5]\n",
    "\n",
    "tp2=tp[5:]\n",
    "\n",
    "print(tp1)\n",
    "\n",
    "print(tp2)"
   ]
  },
  {
   "cell_type": "markdown",
   "metadata": {},
   "source": [
    "# Q6"
   ]
  },
  {
   "cell_type": "markdown",
   "metadata": {},
   "source": [
    "Write a program to generate and print another tuple whose values are even numbers in the given tuple \n",
    "\n",
    "\tinput  : (1,2,3,4,5,6,7,8,9,10)\n",
    "\toutput : (2, 4, 6, 8, 10)"
   ]
  },
  {
   "cell_type": "code",
   "execution_count": 1,
   "metadata": {},
   "outputs": [
    {
     "name": "stdout",
     "output_type": "stream",
     "text": [
      "(2, 4, 6, 8, 10)\n"
     ]
    }
   ],
   "source": [
    "tpl=(1,2,3,4,5,6,7,8,9,10)\n",
    "lst=list()\n",
    "for i in tpl:\n",
    "    if (tpl[i-1])%2 == 0:\n",
    "        lst.append(tpl[i-1])\n",
    "tpl1=tuple(lst)\n",
    "print(tpl1)\n"
   ]
  }
 ],
 "metadata": {
  "kernelspec": {
   "display_name": "Python 3",
   "language": "python",
   "name": "python3"
  },
  "language_info": {
   "codemirror_mode": {
    "name": "ipython",
    "version": 3
   },
   "file_extension": ".py",
   "mimetype": "text/x-python",
   "name": "python",
   "nbconvert_exporter": "python",
   "pygments_lexer": "ipython3",
   "version": "3.8.3"
  }
 },
 "nbformat": 4,
 "nbformat_minor": 4
}
