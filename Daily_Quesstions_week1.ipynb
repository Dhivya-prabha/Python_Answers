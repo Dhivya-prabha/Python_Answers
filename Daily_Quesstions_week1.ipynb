{
 "cells": [
  {
   "cell_type": "markdown",
   "metadata": {},
   "source": [
    "# Q1"
   ]
  },
  {
   "cell_type": "markdown",
   "metadata": {},
   "source": [
    "\n",
    "Turn this every item of a list into its square.\n",
    "\n",
    "a=[1,2,3,4,5,6,7]"
   ]
  },
  {
   "cell_type": "code",
   "execution_count": 5,
   "metadata": {},
   "outputs": [
    {
     "name": "stdout",
     "output_type": "stream",
     "text": [
      "[1, 4, 9, 16, 25, 36, 49]\n"
     ]
    }
   ],
   "source": [
    "\n",
    "a=[1,2,3,4,5,6,7] \n",
    "s=[] \n",
    "for i in a: \n",
    "    s.append(i**2) \n",
    "print (s) "
   ]
  },
  {
   "cell_type": "markdown",
   "metadata": {},
   "source": [
    "# Q2"
   ]
  },
  {
   "cell_type": "markdown",
   "metadata": {},
   "source": [
    "\n",
    "Concatenate two lists in the following order\n",
    "\n",
    "list1=[\"Hello\", \"Hi\"]\n",
    "\n",
    "list2=[\"Divya\", \"Sam\"]\n",
    "\n",
    "output--->['Hello Divya', 'Hello Sam', 'Hi Divya', 'Hi Sam']"
   ]
  },
  {
   "cell_type": "code",
   "execution_count": 8,
   "metadata": {},
   "outputs": [
    {
     "name": "stdout",
     "output_type": "stream",
     "text": [
      "['Hello Divya', 'Hello Sam', 'Hi Divya', 'Hi Sam']\n"
     ]
    }
   ],
   "source": [
    "list1=[\"Hello\", \"Hi\"]\n",
    "list2=[\" Divya\", \" Sam\"]\n",
    "resList = [x+y for x in list1 for y in list2]\n",
    "print(resList)"
   ]
  },
  {
   "cell_type": "markdown",
   "metadata": {},
   "source": [
    "# Q3"
   ]
  },
  {
   "cell_type": "markdown",
   "metadata": {},
   "source": [
    "Write a program to print the following pattern.\n",
    "\n",
    "1\n",
    "\n",
    "1 2\n",
    "\n",
    "1 2 3\n",
    "\n",
    "1 2 3 4\n",
    "\n",
    "1 2 3 4 5"
   ]
  },
  {
   "cell_type": "code",
   "execution_count": 9,
   "metadata": {},
   "outputs": [
    {
     "name": "stdout",
     "output_type": "stream",
     "text": [
      "1 \n",
      "1 2 \n",
      "1 2 3 \n",
      "1 2 3 4 \n",
      "1 2 3 4 5 \n"
     ]
    }
   ],
   "source": [
    "num = 5\n",
    "for row in range(1, num+1):\n",
    "    for col in range(1, row + 1):\n",
    "        print(col, end=' ')\n",
    "    print(\"\")"
   ]
  },
  {
   "cell_type": "markdown",
   "metadata": {},
   "source": [
    "# Q4"
   ]
  },
  {
   "cell_type": "markdown",
   "metadata": {},
   "source": [
    "\n",
    "Write a program that accepts a word from user and reverse it using for loop"
   ]
  },
  {
   "cell_type": "code",
   "execution_count": 14,
   "metadata": {},
   "outputs": [
    {
     "name": "stdout",
     "output_type": "stream",
     "text": [
      "Enter the word to reverse: hello\n",
      "olleh\n"
     ]
    }
   ],
   "source": [
    "\n",
    "txt = input(\"Enter the word to reverse: \")\n",
    "rev=\"\"\n",
    "for i in txt:\n",
    "    rev= i + rev\n",
    "print(rev)"
   ]
  },
  {
   "cell_type": "markdown",
   "metadata": {},
   "source": [
    "# Q5"
   ]
  },
  {
   "cell_type": "markdown",
   "metadata": {},
   "source": [
    "Concatenate two lists index wise.\n",
    "\n",
    "list1=['Wel', 't', 'Py', 'wor']\n",
    "\n",
    "list2=['come', 'o', 'thon', 'ld']"
   ]
  },
  {
   "cell_type": "code",
   "execution_count": 15,
   "metadata": {},
   "outputs": [
    {
     "name": "stdout",
     "output_type": "stream",
     "text": [
      "['Welcome', 'to', 'Python', 'world']\n"
     ]
    }
   ],
   "source": [
    "list1=['Wel', 't', 'Py', 'wor']\n",
    "list2=['come', 'o', 'thon', 'ld']\n",
    "\n",
    "newlist=list((zip(list1, list2)))\n",
    "aa=[]\n",
    "for i in newlist:\n",
    "    aa.append(''.join(i))\n",
    "print(aa)"
   ]
  }
 ],
 "metadata": {
  "kernelspec": {
   "display_name": "Python 3",
   "language": "python",
   "name": "python3"
  },
  "language_info": {
   "codemirror_mode": {
    "name": "ipython",
    "version": 3
   },
   "file_extension": ".py",
   "mimetype": "text/x-python",
   "name": "python",
   "nbconvert_exporter": "python",
   "pygments_lexer": "ipython3",
   "version": "3.8.3"
  }
 },
 "nbformat": 4,
 "nbformat_minor": 4
}
